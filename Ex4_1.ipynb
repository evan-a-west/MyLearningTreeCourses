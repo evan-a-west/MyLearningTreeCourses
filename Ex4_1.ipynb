{
 "cells": [
  {
   "cell_type": "markdown",
   "metadata": {},
   "source": [
    "# Hands-On Exercise 4.1:\n",
    "# Performing Regression Analysis of Structured Data With Python\n",
    "***"
   ]
  },
  {
   "cell_type": "markdown",
   "metadata": {},
   "source": [
    "## Objectives\n",
    "\n",
    "#### In this exercise, you will perform regression analysis on structured data using Python. This exercise allows you to predict a target variable from a number of predictor variables. The goal is to show you how regression can be used to predict unknown values from a model trained on an existing data set.\n",
    "\n",
    "### Overview\n",
    "\n",
    "You will work on a data set called Prestige that is included with the car package.\n",
    "\n",
    "You will:<br>\n",
    "● Review the distribution of the target variable<br>\n",
    "● Examine the data set for correlated variables<br>\n",
    "● Define a linear model that best describes data from which we can make future predictions<br><br>\n",
    "\n",
    "**Pre-step: Execute the following cell in order to suppress warning messages**"
   ]
  },
  {
   "cell_type": "code",
   "execution_count": 1,
   "metadata": {},
   "outputs": [],
   "source": [
    "import warnings\n",
    "warnings.filterwarnings(\"ignore\")"
   ]
  },
  {
   "cell_type": "markdown",
   "metadata": {},
   "source": [
    "**Data loading and text preprocessing**\n",
    "\n",
    "1. ❏ Load the **pandas** and **stasmodel.api** libraries and import the **Prestige** dataset from the **carData** package"
   ]
  },
  {
   "cell_type": "code",
   "execution_count": 3,
   "metadata": {},
   "outputs": [],
   "source": [
    "import pandas as pd\n",
    "import statsmodels.api as sm"
   ]
  },
  {
   "cell_type": "code",
   "execution_count": 6,
   "metadata": {},
   "outputs": [],
   "source": [
    "prestige = sm.datasets.get_rdataset(\"Prestige\", \"carData\").data"
   ]
  },
  {
   "cell_type": "markdown",
   "metadata": {},
   "source": [
    "2. ❏ Examine the structure of the Prestige data set using the **.shape, .columns** and **.dtypes** attributes, and preview the data"
   ]
  },
  {
   "cell_type": "code",
   "execution_count": 7,
   "metadata": {},
   "outputs": [
    {
     "data": {
      "text/plain": [
       "(102, 6)"
      ]
     },
     "execution_count": 7,
     "metadata": {},
     "output_type": "execute_result"
    }
   ],
   "source": [
    "prestige.shape"
   ]
  },
  {
   "cell_type": "code",
   "execution_count": 8,
   "metadata": {},
   "outputs": [
    {
     "data": {
      "text/plain": [
       "Index(['education', 'income', 'women', 'prestige', 'census', 'type'], dtype='object')"
      ]
     },
     "execution_count": 8,
     "metadata": {},
     "output_type": "execute_result"
    }
   ],
   "source": [
    "prestige.columns"
   ]
  },
  {
   "cell_type": "code",
   "execution_count": 9,
   "metadata": {},
   "outputs": [
    {
     "data": {
      "text/plain": [
       "education    float64\n",
       "income         int64\n",
       "women        float64\n",
       "prestige     float64\n",
       "census         int64\n",
       "type          object\n",
       "dtype: object"
      ]
     },
     "execution_count": 9,
     "metadata": {},
     "output_type": "execute_result"
    }
   ],
   "source": [
    "prestige.dtypes"
   ]
  },
  {
   "cell_type": "code",
   "execution_count": 10,
   "metadata": {},
   "outputs": [
    {
     "data": {
      "text/html": [
       "<div>\n",
       "<style scoped>\n",
       "    .dataframe tbody tr th:only-of-type {\n",
       "        vertical-align: middle;\n",
       "    }\n",
       "\n",
       "    .dataframe tbody tr th {\n",
       "        vertical-align: top;\n",
       "    }\n",
       "\n",
       "    .dataframe thead th {\n",
       "        text-align: right;\n",
       "    }\n",
       "</style>\n",
       "<table border=\"1\" class=\"dataframe\">\n",
       "  <thead>\n",
       "    <tr style=\"text-align: right;\">\n",
       "      <th></th>\n",
       "      <th>education</th>\n",
       "      <th>income</th>\n",
       "      <th>women</th>\n",
       "      <th>prestige</th>\n",
       "      <th>census</th>\n",
       "      <th>type</th>\n",
       "    </tr>\n",
       "  </thead>\n",
       "  <tbody>\n",
       "    <tr>\n",
       "      <th>gov.administrators</th>\n",
       "      <td>13.11</td>\n",
       "      <td>12351</td>\n",
       "      <td>11.16</td>\n",
       "      <td>68.8</td>\n",
       "      <td>1113</td>\n",
       "      <td>prof</td>\n",
       "    </tr>\n",
       "    <tr>\n",
       "      <th>general.managers</th>\n",
       "      <td>12.26</td>\n",
       "      <td>25879</td>\n",
       "      <td>4.02</td>\n",
       "      <td>69.1</td>\n",
       "      <td>1130</td>\n",
       "      <td>prof</td>\n",
       "    </tr>\n",
       "    <tr>\n",
       "      <th>accountants</th>\n",
       "      <td>12.77</td>\n",
       "      <td>9271</td>\n",
       "      <td>15.70</td>\n",
       "      <td>63.4</td>\n",
       "      <td>1171</td>\n",
       "      <td>prof</td>\n",
       "    </tr>\n",
       "    <tr>\n",
       "      <th>purchasing.officers</th>\n",
       "      <td>11.42</td>\n",
       "      <td>8865</td>\n",
       "      <td>9.11</td>\n",
       "      <td>56.8</td>\n",
       "      <td>1175</td>\n",
       "      <td>prof</td>\n",
       "    </tr>\n",
       "    <tr>\n",
       "      <th>chemists</th>\n",
       "      <td>14.62</td>\n",
       "      <td>8403</td>\n",
       "      <td>11.68</td>\n",
       "      <td>73.5</td>\n",
       "      <td>2111</td>\n",
       "      <td>prof</td>\n",
       "    </tr>\n",
       "    <tr>\n",
       "      <th>...</th>\n",
       "      <td>...</td>\n",
       "      <td>...</td>\n",
       "      <td>...</td>\n",
       "      <td>...</td>\n",
       "      <td>...</td>\n",
       "      <td>...</td>\n",
       "    </tr>\n",
       "    <tr>\n",
       "      <th>bus.drivers</th>\n",
       "      <td>7.58</td>\n",
       "      <td>5562</td>\n",
       "      <td>9.47</td>\n",
       "      <td>35.9</td>\n",
       "      <td>9171</td>\n",
       "      <td>bc</td>\n",
       "    </tr>\n",
       "    <tr>\n",
       "      <th>taxi.drivers</th>\n",
       "      <td>7.93</td>\n",
       "      <td>4224</td>\n",
       "      <td>3.59</td>\n",
       "      <td>25.1</td>\n",
       "      <td>9173</td>\n",
       "      <td>bc</td>\n",
       "    </tr>\n",
       "    <tr>\n",
       "      <th>longshoremen</th>\n",
       "      <td>8.37</td>\n",
       "      <td>4753</td>\n",
       "      <td>0.00</td>\n",
       "      <td>26.1</td>\n",
       "      <td>9313</td>\n",
       "      <td>bc</td>\n",
       "    </tr>\n",
       "    <tr>\n",
       "      <th>typesetters</th>\n",
       "      <td>10.00</td>\n",
       "      <td>6462</td>\n",
       "      <td>13.58</td>\n",
       "      <td>42.2</td>\n",
       "      <td>9511</td>\n",
       "      <td>bc</td>\n",
       "    </tr>\n",
       "    <tr>\n",
       "      <th>bookbinders</th>\n",
       "      <td>8.55</td>\n",
       "      <td>3617</td>\n",
       "      <td>70.87</td>\n",
       "      <td>35.2</td>\n",
       "      <td>9517</td>\n",
       "      <td>bc</td>\n",
       "    </tr>\n",
       "  </tbody>\n",
       "</table>\n",
       "<p>102 rows × 6 columns</p>\n",
       "</div>"
      ],
      "text/plain": [
       "                     education  income  women  prestige  census  type\n",
       "gov.administrators       13.11   12351  11.16      68.8    1113  prof\n",
       "general.managers         12.26   25879   4.02      69.1    1130  prof\n",
       "accountants              12.77    9271  15.70      63.4    1171  prof\n",
       "purchasing.officers      11.42    8865   9.11      56.8    1175  prof\n",
       "chemists                 14.62    8403  11.68      73.5    2111  prof\n",
       "...                        ...     ...    ...       ...     ...   ...\n",
       "bus.drivers               7.58    5562   9.47      35.9    9171    bc\n",
       "taxi.drivers              7.93    4224   3.59      25.1    9173    bc\n",
       "longshoremen              8.37    4753   0.00      26.1    9313    bc\n",
       "typesetters              10.00    6462  13.58      42.2    9511    bc\n",
       "bookbinders               8.55    3617  70.87      35.2    9517    bc\n",
       "\n",
       "[102 rows x 6 columns]"
      ]
     },
     "execution_count": 10,
     "metadata": {},
     "output_type": "execute_result"
    }
   ],
   "source": [
    "prestige"
   ]
  },
  {
   "cell_type": "code",
   "execution_count": 11,
   "metadata": {},
   "outputs": [
    {
     "data": {
      "text/plain": [
       "<bound method NDFrame.describe of                      education  income  women  prestige  census  type\n",
       "gov.administrators       13.11   12351  11.16      68.8    1113  prof\n",
       "general.managers         12.26   25879   4.02      69.1    1130  prof\n",
       "accountants              12.77    9271  15.70      63.4    1171  prof\n",
       "purchasing.officers      11.42    8865   9.11      56.8    1175  prof\n",
       "chemists                 14.62    8403  11.68      73.5    2111  prof\n",
       "...                        ...     ...    ...       ...     ...   ...\n",
       "bus.drivers               7.58    5562   9.47      35.9    9171    bc\n",
       "taxi.drivers              7.93    4224   3.59      25.1    9173    bc\n",
       "longshoremen              8.37    4753   0.00      26.1    9313    bc\n",
       "typesetters              10.00    6462  13.58      42.2    9511    bc\n",
       "bookbinders               8.55    3617  70.87      35.2    9517    bc\n",
       "\n",
       "[102 rows x 6 columns]>"
      ]
     },
     "execution_count": 11,
     "metadata": {},
     "output_type": "execute_result"
    }
   ],
   "source": [
    "prestige.describe"
   ]
  },
  {
   "cell_type": "markdown",
   "metadata": {},
   "source": [
    "3. ❏ Examine the distribution of the target variable **prestige** within the **Prestige** dataset"
   ]
  },
  {
   "cell_type": "code",
   "execution_count": 21,
   "metadata": {},
   "outputs": [
    {
     "data": {
      "text/plain": [
       "<bound method NDFrame.describe of gov.administrators     68.8\n",
       "general.managers       69.1\n",
       "accountants            63.4\n",
       "purchasing.officers    56.8\n",
       "chemists               73.5\n",
       "                       ... \n",
       "bus.drivers            35.9\n",
       "taxi.drivers           25.1\n",
       "longshoremen           26.1\n",
       "typesetters            42.2\n",
       "bookbinders            35.2\n",
       "Name: prestige, Length: 102, dtype: float64>"
      ]
     },
     "execution_count": 21,
     "metadata": {},
     "output_type": "execute_result"
    },
    {
     "data": {
      "image/png": "[encoded data removed]",
      "text/plain": [
       "<Figure size 432x288 with 1 Axes>"
      ]
     },
     "metadata": {
      "needs_background": "light"
     },
     "output_type": "display_data"
    }
   ],
   "source": [
    "prestige.boxplot()\n",
    "prestige.prestige.describe"
   ]
  },
  {
   "cell_type": "markdown",
   "metadata": {},
   "source": [
    "4. ❏ Is there a difference between the mean and the median? What might this\n",
    "indicate?"
   ]
  },
  {
   "cell_type": "markdown",
   "metadata": {},
   "source": [
    "5. ❏ Generate a **histogram** of the variable<br><br>\n",
    "*Hint: It may be necessary to execute the command twice for graph to display*"
   ]
  },
  {
   "cell_type": "code",
   "execution_count": 23,
   "metadata": {},
   "outputs": [
    {
     "data": {
      "text/plain": [
       "<AxesSubplot:>"
      ]
     },
     "execution_count": 23,
     "metadata": {},
     "output_type": "execute_result"
    },
    {
     "data": {
      "image/png": "[encoded data removed]",
      "text/plain": [
       "<Figure size 432x288 with 1 Axes>"
      ]
     },
     "metadata": {
      "needs_background": "light"
     },
     "output_type": "display_data"
    }
   ],
   "source": [
    "prestige[\"prestige\"].hist()"
   ]
  },
  {
   "cell_type": "markdown",
   "metadata": {},
   "source": [
    "6. ❏ Use a **barplot** to take a look at the distribution of the levels of the **type** attribute<br><br>\n",
    "*Hint: Use the .value_counts() method*"
   ]
  },
  {
   "cell_type": "code",
   "execution_count": 40,
   "metadata": {},
   "outputs": [
    {
     "data": {
      "text/plain": [
       "<AxesSubplot:>"
      ]
     },
     "execution_count": 40,
     "metadata": {},
     "output_type": "execute_result"
    },
    {
     "data": {
      "image/png": "[encoded data removed]",
      "text/plain": [
       "<Figure size 432x288 with 1 Axes>"
      ]
     },
     "metadata": {
      "needs_background": "light"
     },
     "output_type": "display_data"
    }
   ],
   "source": [
    "prestige.type.value_counts().plot(kind='bar')"
   ]
  },
  {
   "cell_type": "markdown",
   "metadata": {},
   "source": [
    "7. ❏ Use a **scatterplot** to see if there is a correlation between the variable *women* and the target variable *prestige*"
   ]
  },
  {
   "cell_type": "code",
   "execution_count": 45,
   "metadata": {},
   "outputs": [
    {
     "data": {
      "text/plain": [
       "<AxesSubplot:xlabel='prestige', ylabel='women'>"
      ]
     },
     "execution_count": 45,
     "metadata": {},
     "output_type": "execute_result"
    },
    {
     "data": {
      "image/png": "[encoded data removed]",
      "text/plain": [
       "<Figure size 432x288 with 1 Axes>"
      ]
     },
     "metadata": {
      "needs_background": "light"
     },
     "output_type": "display_data"
    }
   ],
   "source": [
    "prestige.plot.scatter(x='prestige', y='women')"
   ]
  },
  {
   "cell_type": "markdown",
   "metadata": {},
   "source": [
    "8. ❏ Create a **correlation matrix** to examine the relationship between the variables in the dataset"
   ]
  },
  {
   "cell_type": "code",
   "execution_count": 46,
   "metadata": {},
   "outputs": [
    {
     "data": {
      "text/html": [
       "<div>\n",
       "<style scoped>\n",
       "    .dataframe tbody tr th:only-of-type {\n",
       "        vertical-align: middle;\n",
       "    }\n",
       "\n",
       "    .dataframe tbody tr th {\n",
       "        vertical-align: top;\n",
       "    }\n",
       "\n",
       "    .dataframe thead th {\n",
       "        text-align: right;\n",
       "    }\n",
       "</style>\n",
       "<table border=\"1\" class=\"dataframe\">\n",
       "  <thead>\n",
       "    <tr style=\"text-align: right;\">\n",
       "      <th></th>\n",
       "      <th>education</th>\n",
       "      <th>income</th>\n",
       "      <th>women</th>\n",
       "      <th>prestige</th>\n",
       "      <th>census</th>\n",
       "    </tr>\n",
       "  </thead>\n",
       "  <tbody>\n",
       "    <tr>\n",
       "      <th>education</th>\n",
       "      <td>1.000000</td>\n",
       "      <td>0.577580</td>\n",
       "      <td>0.061853</td>\n",
       "      <td>0.850177</td>\n",
       "      <td>-0.823088</td>\n",
       "    </tr>\n",
       "    <tr>\n",
       "      <th>income</th>\n",
       "      <td>0.577580</td>\n",
       "      <td>1.000000</td>\n",
       "      <td>-0.441059</td>\n",
       "      <td>0.714906</td>\n",
       "      <td>-0.361002</td>\n",
       "    </tr>\n",
       "    <tr>\n",
       "      <th>women</th>\n",
       "      <td>0.061853</td>\n",
       "      <td>-0.441059</td>\n",
       "      <td>1.000000</td>\n",
       "      <td>-0.118334</td>\n",
       "      <td>-0.227003</td>\n",
       "    </tr>\n",
       "    <tr>\n",
       "      <th>prestige</th>\n",
       "      <td>0.850177</td>\n",
       "      <td>0.714906</td>\n",
       "      <td>-0.118334</td>\n",
       "      <td>1.000000</td>\n",
       "      <td>-0.634510</td>\n",
       "    </tr>\n",
       "    <tr>\n",
       "      <th>census</th>\n",
       "      <td>-0.823088</td>\n",
       "      <td>-0.361002</td>\n",
       "      <td>-0.227003</td>\n",
       "      <td>-0.634510</td>\n",
       "      <td>1.000000</td>\n",
       "    </tr>\n",
       "  </tbody>\n",
       "</table>\n",
       "</div>"
      ],
      "text/plain": [
       "           education    income     women  prestige    census\n",
       "education   1.000000  0.577580  0.061853  0.850177 -0.823088\n",
       "income      0.577580  1.000000 -0.441059  0.714906 -0.361002\n",
       "women       0.061853 -0.441059  1.000000 -0.118334 -0.227003\n",
       "prestige    0.850177  0.714906 -0.118334  1.000000 -0.634510\n",
       "census     -0.823088 -0.361002 -0.227003 -0.634510  1.000000"
      ]
     },
     "execution_count": 46,
     "metadata": {},
     "output_type": "execute_result"
    }
   ],
   "source": [
    "prestige.corr()"
   ]
  },
  {
   "cell_type": "markdown",
   "metadata": {},
   "source": [
    "so the income to eduction -> .577580 is somewhat concerning\n",
    "The Income to Women, while lower, is still concerning -> -0.441059\n"
   ]
  },
  {
   "cell_type": "markdown",
   "metadata": {},
   "source": [
    "9. ❏ Visualize the relationship between the *education*, *income* and *women* variables using the **pairplot()** function from the **seaborn** package<br><br>\n",
    "*Hint: You will need to import the seaborn package*"
   ]
  },
  {
   "cell_type": "code",
   "execution_count": 47,
   "metadata": {},
   "outputs": [],
   "source": [
    "import seaborn as sea"
   ]
  },
  {
   "cell_type": "code",
   "execution_count": 49,
   "metadata": {},
   "outputs": [
    {
     "data": {
      "text/plain": [
       "<seaborn.axisgrid.PairGrid at 0x199dc320040>"
      ]
     },
     "execution_count": 49,
     "metadata": {},
     "output_type": "execute_result"
    },
    {
     "data": {
      "image/png": "[encoded data removed]",
      "text/plain": [
       "<Figure size 540x540 with 12 Axes>"
      ]
     },
     "metadata": {
      "needs_background": "light"
     },
     "output_type": "display_data"
    }
   ],
   "source": [
    "sea.pairplot(prestige[[\"education\", \"income\", \"women\"]])"
   ]
  },
  {
   "cell_type": "markdown",
   "metadata": {},
   "source": [
    "10. ❏ Are there patterns in the plots?"
   ]
  },
  {
   "cell_type": "markdown",
   "metadata": {},
   "source": [
    "Yes"
   ]
  },
  {
   "cell_type": "markdown",
   "metadata": {},
   "source": [
    "11. ❏ Import **ols** from **statsmodels.formula.api** library"
   ]
  },
  {
   "cell_type": "code",
   "execution_count": 77,
   "metadata": {},
   "outputs": [],
   "source": [
    "from statsmodels.formula.api import ols\n",
    "import numpy as np"
   ]
  },
  {
   "cell_type": "markdown",
   "metadata": {},
   "source": [
    "12. ❏ Using the **ols()** function, fit a linear regression model to relate the independent\n",
    "variables to the target variable"
   ]
  },
  {
   "cell_type": "code",
   "execution_count": 79,
   "metadata": {},
   "outputs": [],
   "source": [
    "linearReg1 = ols(formula='prestige ~ education + income + women + type + census', data = prestige).fit()\n",
    "linearReg2 = ols(formula='prestige ~ education', data = prestige).fit()\n",
    "linearReg3 = ols(formula='prestige ~ income', data = prestige).fit()\n",
    "linearReg4 = ols(formula='prestige ~ education + income', data = prestige).fit()\n",
    "linearReg5 = ols(formula='prestige ~ education + income + type', data = prestige).fit()\n",
    "linearReg6 = ols(formula='prestige ~ education + type', data = prestige).fit()\n",
    "linearReg7 = ols(formula='prestige ~ education + np.sqrt(income) + type', data = prestige).fit()"
   ]
  },
  {
   "cell_type": "code",
   "execution_count": 72,
   "metadata": {},
   "outputs": [
    {
     "name": "stdout",
     "output_type": "stream",
     "text": [
      "                            OLS Regression Results                            \n",
      "==============================================================================\n",
      "Dep. Variable:               prestige   R-squared:                       0.841\n",
      "Model:                            OLS   Adj. R-squared:                  0.831\n",
      "Method:                 Least Squares   F-statistic:                     80.25\n",
      "Date:                Wed, 23 Mar 2022   Prob (F-statistic):           3.58e-34\n",
      "Time:                        10:35:31   Log-Likelihood:                -326.64\n",
      "No. Observations:                  98   AIC:                             667.3\n",
      "Df Residuals:                      91   BIC:                             685.4\n",
      "Df Model:                           6                                         \n",
      "Covariance Type:            nonrobust                                         \n",
      "================================================================================\n",
      "                   coef    std err          t      P>|t|      [0.025      0.975]\n",
      "--------------------------------------------------------------------------------\n",
      "Intercept      -12.1297      8.018     -1.513      0.134     -28.057       3.798\n",
      "type[T.prof]    10.7703      4.676      2.303      0.024       1.482      20.059\n",
      "type[T.wc]       0.2877      3.139      0.092      0.927      -5.948       6.523\n",
      "education        3.9331      0.653      6.019      0.000       2.635       5.231\n",
      "income           0.0010      0.000      3.824      0.000       0.000       0.002\n",
      "women            0.0131      0.030      0.434      0.665      -0.047       0.073\n",
      "census           0.0012      0.001      1.870      0.065    -7.2e-05       0.002\n",
      "==============================================================================\n",
      "Omnibus:                        0.919   Durbin-Watson:                   1.798\n",
      "Prob(Omnibus):                  0.632   Jarque-Bera (JB):                0.912\n",
      "Skew:                          -0.051   Prob(JB):                        0.634\n",
      "Kurtosis:                       2.539   Cond. No.                     1.06e+05\n",
      "==============================================================================\n",
      "\n",
      "Notes:\n",
      "[1] Standard Errors assume that the covariance matrix of the errors is correctly specified.\n",
      "[2] The condition number is large, 1.06e+05. This might indicate that there are\n",
      "strong multicollinearity or other numerical problems.\n"
     ]
    }
   ],
   "source": [
    "print(linearReg1.summary())"
   ]
  },
  {
   "cell_type": "markdown",
   "metadata": {},
   "source": [
    "13. ❏ View the model using the **summary()** method to see the estimated coefficients"
   ]
  },
  {
   "cell_type": "code",
   "execution_count": 68,
   "metadata": {},
   "outputs": [
    {
     "name": "stdout",
     "output_type": "stream",
     "text": [
      "                            OLS Regression Results                            \n",
      "==============================================================================\n",
      "Dep. Variable:               prestige   R-squared:                       0.723\n",
      "Model:                            OLS   Adj. R-squared:                  0.720\n",
      "Method:                 Least Squares   F-statistic:                     260.8\n",
      "Date:                Wed, 23 Mar 2022   Prob (F-statistic):           1.29e-29\n",
      "Time:                        10:34:11   Log-Likelihood:                -369.00\n",
      "No. Observations:                 102   AIC:                             742.0\n",
      "Df Residuals:                     100   BIC:                             747.3\n",
      "Df Model:                           1                                         \n",
      "Covariance Type:            nonrobust                                         \n",
      "==============================================================================\n",
      "                 coef    std err          t      P>|t|      [0.025      0.975]\n",
      "------------------------------------------------------------------------------\n",
      "Intercept    -10.7320      3.677     -2.919      0.004     -18.027      -3.437\n",
      "education      5.3609      0.332     16.148      0.000       4.702       6.020\n",
      "==============================================================================\n",
      "Omnibus:                        3.465   Durbin-Watson:                   1.439\n",
      "Prob(Omnibus):                  0.177   Jarque-Bera (JB):                3.443\n",
      "Skew:                          -0.438   Prob(JB):                        0.179\n",
      "Kurtosis:                       2.793   Cond. No.                         45.5\n",
      "==============================================================================\n",
      "\n",
      "Notes:\n",
      "[1] Standard Errors assume that the covariance matrix of the errors is correctly specified.\n"
     ]
    }
   ],
   "source": [
    "print(linearReg2.summary())"
   ]
  },
  {
   "cell_type": "code",
   "execution_count": 69,
   "metadata": {},
   "outputs": [
    {
     "name": "stdout",
     "output_type": "stream",
     "text": [
      "                            OLS Regression Results                            \n",
      "==============================================================================\n",
      "Dep. Variable:               prestige   R-squared:                       0.511\n",
      "Model:                            OLS   Adj. R-squared:                  0.506\n",
      "Method:                 Least Squares   F-statistic:                     104.5\n",
      "Date:                Wed, 23 Mar 2022   Prob (F-statistic):           3.19e-17\n",
      "Time:                        10:34:16   Log-Likelihood:                -397.94\n",
      "No. Observations:                 102   AIC:                             799.9\n",
      "Df Residuals:                     100   BIC:                             805.1\n",
      "Df Model:                           1                                         \n",
      "Covariance Type:            nonrobust                                         \n",
      "==============================================================================\n",
      "                 coef    std err          t      P>|t|      [0.025      0.975]\n",
      "------------------------------------------------------------------------------\n",
      "Intercept     27.1412      2.268     11.969      0.000      22.642      31.640\n",
      "income         0.0029      0.000     10.224      0.000       0.002       0.003\n",
      "==============================================================================\n",
      "Omnibus:                        4.040   Durbin-Watson:                   1.126\n",
      "Prob(Omnibus):                  0.133   Jarque-Bera (JB):                3.649\n",
      "Skew:                           0.461   Prob(JB):                        0.161\n",
      "Kurtosis:                       3.092   Cond. No.                     1.52e+04\n",
      "==============================================================================\n",
      "\n",
      "Notes:\n",
      "[1] Standard Errors assume that the covariance matrix of the errors is correctly specified.\n",
      "[2] The condition number is large, 1.52e+04. This might indicate that there are\n",
      "strong multicollinearity or other numerical problems.\n"
     ]
    }
   ],
   "source": [
    "print(linearReg3.summary())"
   ]
  },
  {
   "cell_type": "code",
   "execution_count": 71,
   "metadata": {},
   "outputs": [
    {
     "name": "stdout",
     "output_type": "stream",
     "text": [
      "                            OLS Regression Results                            \n",
      "==============================================================================\n",
      "Dep. Variable:               prestige   R-squared:                       0.798\n",
      "Model:                            OLS   Adj. R-squared:                  0.794\n",
      "Method:                 Least Squares   F-statistic:                     195.6\n",
      "Date:                Wed, 23 Mar 2022   Prob (F-statistic):           4.12e-35\n",
      "Time:                        10:34:56   Log-Likelihood:                -352.86\n",
      "No. Observations:                 102   AIC:                             711.7\n",
      "Df Residuals:                      99   BIC:                             719.6\n",
      "Df Model:                           2                                         \n",
      "Covariance Type:            nonrobust                                         \n",
      "==============================================================================\n",
      "                 coef    std err          t      P>|t|      [0.025      0.975]\n",
      "------------------------------------------------------------------------------\n",
      "Intercept     -6.8478      3.219     -2.127      0.036     -13.235      -0.461\n",
      "education      4.1374      0.349     11.858      0.000       3.445       4.830\n",
      "income         0.0014      0.000      6.071      0.000       0.001       0.002\n",
      "==============================================================================\n",
      "Omnibus:                        0.393   Durbin-Watson:                   1.673\n",
      "Prob(Omnibus):                  0.822   Jarque-Bera (JB):                0.557\n",
      "Skew:                          -0.077   Prob(JB):                        0.757\n",
      "Kurtosis:                       2.673   Cond. No.                     3.35e+04\n",
      "==============================================================================\n",
      "\n",
      "Notes:\n",
      "[1] Standard Errors assume that the covariance matrix of the errors is correctly specified.\n",
      "[2] The condition number is large, 3.35e+04. This might indicate that there are\n",
      "strong multicollinearity or other numerical problems.\n"
     ]
    }
   ],
   "source": [
    "print(linearReg4.summary())"
   ]
  },
  {
   "cell_type": "code",
   "execution_count": 74,
   "metadata": {},
   "outputs": [
    {
     "name": "stdout",
     "output_type": "stream",
     "text": [
      "                            OLS Regression Results                            \n",
      "==============================================================================\n",
      "Dep. Variable:               prestige   R-squared:                       0.835\n",
      "Model:                            OLS   Adj. R-squared:                  0.828\n",
      "Method:                 Least Squares   F-statistic:                     117.5\n",
      "Date:                Wed, 23 Mar 2022   Prob (F-statistic):           1.70e-35\n",
      "Time:                        10:36:59   Log-Likelihood:                -328.51\n",
      "No. Observations:                  98   AIC:                             667.0\n",
      "Df Residuals:                      93   BIC:                             679.9\n",
      "Df Model:                           4                                         \n",
      "Covariance Type:            nonrobust                                         \n",
      "================================================================================\n",
      "                   coef    std err          t      P>|t|      [0.025      0.975]\n",
      "--------------------------------------------------------------------------------\n",
      "Intercept       -0.6229      5.228     -0.119      0.905     -11.004       9.758\n",
      "type[T.prof]     6.0390      3.867      1.562      0.122      -1.640      13.718\n",
      "type[T.wc]      -2.7372      2.514     -1.089      0.279      -7.729       2.255\n",
      "education        3.6732      0.641      5.735      0.000       2.401       4.945\n",
      "income           0.0010      0.000      4.586      0.000       0.001       0.001\n",
      "==============================================================================\n",
      "Omnibus:                        0.500   Durbin-Watson:                   1.787\n",
      "Prob(Omnibus):                  0.779   Jarque-Bera (JB):                0.652\n",
      "Skew:                          -0.106   Prob(JB):                        0.722\n",
      "Kurtosis:                       2.662   Cond. No.                     7.34e+04\n",
      "==============================================================================\n",
      "\n",
      "Notes:\n",
      "[1] Standard Errors assume that the covariance matrix of the errors is correctly specified.\n",
      "[2] The condition number is large, 7.34e+04. This might indicate that there are\n",
      "strong multicollinearity or other numerical problems.\n"
     ]
    }
   ],
   "source": [
    "print(linearReg5.summary())"
   ]
  },
  {
   "cell_type": "code",
   "execution_count": 78,
   "metadata": {},
   "outputs": [
    {
     "name": "stdout",
     "output_type": "stream",
     "text": [
      "                            OLS Regression Results                            \n",
      "==============================================================================\n",
      "Dep. Variable:               prestige   R-squared:                       0.798\n",
      "Model:                            OLS   Adj. R-squared:                  0.791\n",
      "Method:                 Least Squares   F-statistic:                     123.4\n",
      "Date:                Wed, 23 Mar 2022   Prob (F-statistic):           1.76e-32\n",
      "Time:                        10:55:33   Log-Likelihood:                -338.50\n",
      "No. Observations:                  98   AIC:                             685.0\n",
      "Df Residuals:                      94   BIC:                             695.3\n",
      "Df Model:                           3                                         \n",
      "Covariance Type:            nonrobust                                         \n",
      "================================================================================\n",
      "                   coef    std err          t      P>|t|      [0.025      0.975]\n",
      "--------------------------------------------------------------------------------\n",
      "Intercept       -2.6982      5.736     -0.470      0.639     -14.087       8.691\n",
      "type[T.prof]     6.1424      4.259      1.442      0.153      -2.314      14.599\n",
      "type[T.wc]      -5.4585      2.691     -2.029      0.045     -10.801      -0.116\n",
      "education        4.5728      0.672      6.809      0.000       3.239       5.906\n",
      "==============================================================================\n",
      "Omnibus:                        2.654   Durbin-Watson:                   1.784\n",
      "Prob(Omnibus):                  0.265   Jarque-Bera (JB):                2.629\n",
      "Skew:                          -0.353   Prob(JB):                        0.269\n",
      "Kurtosis:                       2.618   Cond. No.                         101.\n",
      "==============================================================================\n",
      "\n",
      "Notes:\n",
      "[1] Standard Errors assume that the covariance matrix of the errors is correctly specified.\n"
     ]
    }
   ],
   "source": [
    "print(linearReg6.summary())"
   ]
  },
  {
   "cell_type": "code",
   "execution_count": 81,
   "metadata": {},
   "outputs": [
    {
     "name": "stdout",
     "output_type": "stream",
     "text": [
      "                            OLS Regression Results                            \n",
      "==============================================================================\n",
      "Dep. Variable:               prestige   R-squared:                       0.847\n",
      "Model:                            OLS   Adj. R-squared:                  0.840\n",
      "Method:                 Least Squares   F-statistic:                     128.8\n",
      "Date:                Wed, 23 Mar 2022   Prob (F-statistic):           4.87e-37\n",
      "Time:                        10:56:34   Log-Likelihood:                -324.75\n",
      "No. Observations:                  98   AIC:                             659.5\n",
      "Df Residuals:                      93   BIC:                             672.4\n",
      "Df Model:                           4                                         \n",
      "Covariance Type:            nonrobust                                         \n",
      "===================================================================================\n",
      "                      coef    std err          t      P>|t|      [0.025      0.975]\n",
      "-----------------------------------------------------------------------------------\n",
      "Intercept          -9.4031      5.159     -1.823      0.072     -19.647       0.841\n",
      "type[T.prof]        6.4497      3.722      1.733      0.086      -0.941      13.840\n",
      "type[T.wc]         -1.8271      2.442     -0.748      0.456      -6.677       3.023\n",
      "education           3.3938      0.625      5.431      0.000       2.153       4.635\n",
      "np.sqrt(income)     0.2301      0.042      5.489      0.000       0.147       0.313\n",
      "==============================================================================\n",
      "Omnibus:                        0.018   Durbin-Watson:                   1.870\n",
      "Prob(Omnibus):                  0.991   Jarque-Bera (JB):                0.146\n",
      "Skew:                           0.015   Prob(JB):                        0.929\n",
      "Kurtosis:                       2.813   Cond. No.                         763.\n",
      "==============================================================================\n",
      "\n",
      "Notes:\n",
      "[1] Standard Errors assume that the covariance matrix of the errors is correctly specified.\n"
     ]
    }
   ],
   "source": [
    "print(linearReg7.summary())"
   ]
  },
  {
   "cell_type": "markdown",
   "metadata": {},
   "source": [
    "So the lowest Cond. No. has just Eductation + Type. \n",
    "However the Eductation + np.sqrt(income) + type has a higher R/Adj-R value, but a much higher Cond. No. \n",
    "\n",
    "In practice, the Adj-R^2 and Cond. No. have no hard-rules to dictate a good or bad model. What matters is how this behaves on new, real-world data. \n",
    "In this case, likely both the (Eductation + Type) and (Eductation + np.sqrt(income) + type) models should be tested with new/real data. \n",
    "\n",
    "The question is, Is this good enough?\n",
    "\n",
    "To use Linear Regression, the data needs to follow certain rules. \n",
    "- One such rule: the data should be normally distributed around the plot\n",
    "- Another assumption: The data is homoscedastic -> Data is homoscedastic if it has the same variance at both the high and low end of data. \n",
    "    -- For example. Income data is NOT homoscedastic. Low income \n",
    "\n",
    "Heteroscedastic -> variance changes from low to high end of data. "
   ]
  },
  {
   "cell_type": "code",
   "execution_count": 84,
   "metadata": {},
   "outputs": [
    {
     "data": {
      "text/html": [
       "<div>\n",
       "<style scoped>\n",
       "    .dataframe tbody tr th:only-of-type {\n",
       "        vertical-align: middle;\n",
       "    }\n",
       "\n",
       "    .dataframe tbody tr th {\n",
       "        vertical-align: top;\n",
       "    }\n",
       "\n",
       "    .dataframe thead th {\n",
       "        text-align: right;\n",
       "    }\n",
       "</style>\n",
       "<table border=\"1\" class=\"dataframe\">\n",
       "  <thead>\n",
       "    <tr style=\"text-align: right;\">\n",
       "      <th></th>\n",
       "      <th>education</th>\n",
       "      <th>income</th>\n",
       "      <th>women</th>\n",
       "      <th>prestige</th>\n",
       "      <th>census</th>\n",
       "    </tr>\n",
       "  </thead>\n",
       "  <tbody>\n",
       "    <tr>\n",
       "      <th>count</th>\n",
       "      <td>102.000000</td>\n",
       "      <td>102.000000</td>\n",
       "      <td>102.000000</td>\n",
       "      <td>102.000000</td>\n",
       "      <td>102.000000</td>\n",
       "    </tr>\n",
       "    <tr>\n",
       "      <th>mean</th>\n",
       "      <td>10.738039</td>\n",
       "      <td>6797.901961</td>\n",
       "      <td>28.979020</td>\n",
       "      <td>46.833333</td>\n",
       "      <td>5401.774510</td>\n",
       "    </tr>\n",
       "    <tr>\n",
       "      <th>std</th>\n",
       "      <td>2.728444</td>\n",
       "      <td>4245.922227</td>\n",
       "      <td>31.724931</td>\n",
       "      <td>17.204486</td>\n",
       "      <td>2644.993215</td>\n",
       "    </tr>\n",
       "    <tr>\n",
       "      <th>min</th>\n",
       "      <td>6.380000</td>\n",
       "      <td>611.000000</td>\n",
       "      <td>0.000000</td>\n",
       "      <td>14.800000</td>\n",
       "      <td>1113.000000</td>\n",
       "    </tr>\n",
       "    <tr>\n",
       "      <th>25%</th>\n",
       "      <td>8.445000</td>\n",
       "      <td>4106.000000</td>\n",
       "      <td>3.592500</td>\n",
       "      <td>35.225000</td>\n",
       "      <td>3120.500000</td>\n",
       "    </tr>\n",
       "    <tr>\n",
       "      <th>50%</th>\n",
       "      <td>10.540000</td>\n",
       "      <td>5930.500000</td>\n",
       "      <td>13.600000</td>\n",
       "      <td>43.600000</td>\n",
       "      <td>5135.000000</td>\n",
       "    </tr>\n",
       "    <tr>\n",
       "      <th>75%</th>\n",
       "      <td>12.647500</td>\n",
       "      <td>8187.250000</td>\n",
       "      <td>52.202500</td>\n",
       "      <td>59.275000</td>\n",
       "      <td>8312.500000</td>\n",
       "    </tr>\n",
       "    <tr>\n",
       "      <th>max</th>\n",
       "      <td>15.970000</td>\n",
       "      <td>25879.000000</td>\n",
       "      <td>97.510000</td>\n",
       "      <td>87.200000</td>\n",
       "      <td>9517.000000</td>\n",
       "    </tr>\n",
       "  </tbody>\n",
       "</table>\n",
       "</div>"
      ],
      "text/plain": [
       "        education        income       women    prestige       census\n",
       "count  102.000000    102.000000  102.000000  102.000000   102.000000\n",
       "mean    10.738039   6797.901961   28.979020   46.833333  5401.774510\n",
       "std      2.728444   4245.922227   31.724931   17.204486  2644.993215\n",
       "min      6.380000    611.000000    0.000000   14.800000  1113.000000\n",
       "25%      8.445000   4106.000000    3.592500   35.225000  3120.500000\n",
       "50%     10.540000   5930.500000   13.600000   43.600000  5135.000000\n",
       "75%     12.647500   8187.250000   52.202500   59.275000  8312.500000\n",
       "max     15.970000  25879.000000   97.510000   87.200000  9517.000000"
      ]
     },
     "execution_count": 84,
     "metadata": {},
     "output_type": "execute_result"
    }
   ],
   "source": [
    "prestige.describe()"
   ]
  },
  {
   "cell_type": "code",
   "execution_count": 88,
   "metadata": {},
   "outputs": [],
   "source": [
    "from statsmodels.graphics.gofplots import qqplot\n"
   ]
  },
  {
   "cell_type": "code",
   "execution_count": 93,
   "metadata": {},
   "outputs": [
    {
     "data": {
      "image/png": "[encoded data removed]",
      "text/plain": [
       "<Figure size 432x288 with 1 Axes>"
      ]
     },
     "execution_count": 93,
     "metadata": {},
     "output_type": "execute_result"
    },
    {
     "data": {
      "image/png": "[encoded data removed]",
      "text/plain": [
       "<Figure size 432x288 with 1 Axes>"
      ]
     },
     "metadata": {
      "needs_background": "light"
     },
     "output_type": "display_data"
    }
   ],
   "source": [
    "qqplot(data=prestige[\"income\"], line='s')\n",
    "plt.show()"
   ]
  },
  {
   "cell_type": "code",
   "execution_count": 94,
   "metadata": {},
   "outputs": [
    {
     "data": {
      "image/png": "[encoded data removed]",
      "text/plain": [
       "<Figure size 432x288 with 1 Axes>"
      ]
     },
     "metadata": {
      "needs_background": "light"
     },
     "output_type": "display_data"
    }
   ],
   "source": [
    "qqplot(data=np.sqrt(prestige[\"income\"]), line='s')\n",
    "plt.show()"
   ]
  },
  {
   "cell_type": "markdown",
   "metadata": {},
   "source": [
    "14. ❏ When all the independent values are zero, what is the value of the target?"
   ]
  },
  {
   "cell_type": "markdown",
   "metadata": {},
   "source": [
    "intercept = -12.1297"
   ]
  },
  {
   "cell_type": "markdown",
   "metadata": {},
   "source": [
    "15. ❏ How well does the model fit the data? (i.e. how much of its variance is explained by the model?)"
   ]
  },
  {
   "cell_type": "markdown",
   "metadata": {},
   "source": [
    "R-val - 0.835 -> Decent fit!"
   ]
  },
  {
   "cell_type": "markdown",
   "metadata": {},
   "source": [
    "16. ❏ Does the model have statistically significant variables?"
   ]
  },
  {
   "cell_type": "markdown",
   "metadata": {},
   "source": [
    "Yes -> type[T.prof], Education, Income"
   ]
  },
  {
   "cell_type": "markdown",
   "metadata": {},
   "source": [
    "## <center>**Congratulations! You have completed the exercise.**</center>"
   ]
  },
  {
   "attachments": {
    "image.png": {
     "image/png": "[encoded data removed]"
    }
   },
   "cell_type": "markdown",
   "metadata": {},
   "source": [
    "![image.png](attachment:image.png)"
   ]
  },
  {
   "cell_type": "markdown",
   "metadata": {},
   "source": [
    "# <center>**This is the end of the exercise.**</center>"
   ]
  }
 ],
 "metadata": {
  "kernelspec": {
   "display_name": "Python 3",
   "language": "python",
   "name": "python3"
  },
  "language_info": {
   "codemirror_mode": {
    "name": "ipython",
    "version": 3
   },
   "file_extension": ".py",
   "mimetype": "text/x-python",
   "name": "python",
   "nbconvert_exporter": "python",
   "pygments_lexer": "ipython3",
   "version": "3.10.2"
  }
 },
 "nbformat": 4,
 "nbformat_minor": 2
}
